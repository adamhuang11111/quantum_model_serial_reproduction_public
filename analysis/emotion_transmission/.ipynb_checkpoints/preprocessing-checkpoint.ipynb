{
 "cells": [
  {
   "cell_type": "code",
   "execution_count": 160,
   "id": "e730f936",
   "metadata": {},
   "outputs": [],
   "source": [
    "import pandas as pd\n",
    "import numpy as np\n",
    "import matplotlib.pyplot as plt"
   ]
  },
  {
   "cell_type": "code",
   "execution_count": 39,
   "id": "4ab10c48",
   "metadata": {},
   "outputs": [],
   "source": [
    "pred_tab = pd.read_csv(\"combined_predictions_data.csv\")\n",
    "quantum_tab = pred_tab[pred_tab[\"Raw\"] == \"quantum\"]\n",
    "data_tab = pred_tab[pred_tab[\"Raw\"] == \"raw\"]"
   ]
  },
  {
   "cell_type": "code",
   "execution_count": 34,
   "id": "47d50d81",
   "metadata": {},
   "outputs": [],
   "source": [
    "original = quantum_tab[\"Posit0\"].unique()"
   ]
  },
  {
   "cell_type": "code",
   "execution_count": 45,
   "id": "4cd67a2f",
   "metadata": {},
   "outputs": [
    {
     "name": "stderr",
     "output_type": "stream",
     "text": [
      "/var/folders/85/3gswbx8n1x78pchdpf2nst6w0000gn/T/ipykernel_65799/920654163.py:8: SettingWithCopyWarning: \n",
      "A value is trying to be set on a copy of a slice from a DataFrame.\n",
      "Try using .loc[row_indexer,col_indexer] = value instead\n",
      "\n",
      "See the caveats in the documentation: https://pandas.pydata.org/pandas-docs/stable/user_guide/indexing.html#returning-a-view-versus-a-copy\n",
      "  quantum_tab.loc[i,\"story\"] = count\n"
     ]
    }
   ],
   "source": [
    "for emo in quantum_tab[\"Emotion\"].unique():\n",
    "    emo_tab = quantum_tab[quantum_tab[\"Emotion\"] == emo]\n",
    "    count = 0\n",
    "    original = emo_tab[\"Posit0\"].unique()\n",
    "    for o in original:\n",
    "        o_tab = emo_tab[emo_tab[\"Posit0\"] == o]\n",
    "        for i in o_tab.index:\n",
    "            quantum_tab.loc[i,\"story\"] = count\n",
    "        count = count + 1"
   ]
  },
  {
   "cell_type": "code",
   "execution_count": 46,
   "id": "cec89df2",
   "metadata": {},
   "outputs": [
    {
     "name": "stderr",
     "output_type": "stream",
     "text": [
      "/var/folders/85/3gswbx8n1x78pchdpf2nst6w0000gn/T/ipykernel_65799/266827853.py:8: SettingWithCopyWarning: \n",
      "A value is trying to be set on a copy of a slice from a DataFrame.\n",
      "Try using .loc[row_indexer,col_indexer] = value instead\n",
      "\n",
      "See the caveats in the documentation: https://pandas.pydata.org/pandas-docs/stable/user_guide/indexing.html#returning-a-view-versus-a-copy\n",
      "  data_tab.loc[i,\"story\"] = count\n"
     ]
    }
   ],
   "source": [
    "for emo in data_tab[\"Emotion\"].unique():\n",
    "    emo_tab = data_tab[data_tab[\"Emotion\"] == emo]\n",
    "    count = 0\n",
    "    original = emo_tab[\"Posit0\"].unique()\n",
    "    for o in original:\n",
    "        o_tab = emo_tab[emo_tab[\"Posit0\"] == o]\n",
    "        for i in o_tab.index:\n",
    "            data_tab.loc[i,\"story\"] = count\n",
    "        count = count + 1"
   ]
  },
  {
   "cell_type": "code",
   "execution_count": 47,
   "id": "447162ad",
   "metadata": {},
   "outputs": [],
   "source": [
    "quantum_pred_mat = {}\n",
    "for emo in quantum_tab[\"Emotion\"]:\n",
    "    emotion_mat = []\n",
    "    emo_tab = quantum_tab[quantum_tab[\"Emotion\"] == emo]\n",
    "    for i in emo_tab.index:\n",
    "        data = []\n",
    "        data.append(emo_tab.loc[i,\"Posit0\"])\n",
    "        data.append(emo_tab.loc[i,\"Posit1\"])\n",
    "        data.append(emo_tab.loc[i,\"Posit2\"])\n",
    "        data.append(emo_tab.loc[i,\"Posit3\"])\n",
    "        data.append(emo_tab.loc[i,\"story\"])\n",
    "        emotion_mat.append(data)\n",
    "    quantum_pred_mat[emo] = np.array(emotion_mat)"
   ]
  },
  {
   "cell_type": "code",
   "execution_count": 48,
   "id": "57de81e9",
   "metadata": {},
   "outputs": [],
   "source": [
    "data_pred_mat = {}\n",
    "for emo in data_tab[\"Emotion\"]:\n",
    "    emotion_mat = []\n",
    "    emo_tab = data_tab[data_tab[\"Emotion\"] == emo]\n",
    "    for i in emo_tab.index:\n",
    "        data = []\n",
    "        data.append(emo_tab.loc[i,\"Posit0\"])\n",
    "        data.append(emo_tab.loc[i,\"Posit1\"])\n",
    "        data.append(emo_tab.loc[i,\"Posit2\"])\n",
    "        data.append(emo_tab.loc[i,\"Posit3\"])\n",
    "        data.append(emo_tab.loc[i,\"story\"])\n",
    "        emotion_mat.append(data)\n",
    "    data_pred_mat[emo] = np.array(emotion_mat)"
   ]
  },
  {
   "cell_type": "code",
   "execution_count": 31,
   "id": "f0b75c4f",
   "metadata": {},
   "outputs": [],
   "source": [
    "import scipy"
   ]
  },
  {
   "cell_type": "code",
   "execution_count": 32,
   "id": "b4bc71e7",
   "metadata": {},
   "outputs": [],
   "source": [
    "scipy.io.savemat(\"QPred.mat\", quantum_pred_mat)"
   ]
  },
  {
   "cell_type": "code",
   "execution_count": 38,
   "id": "1c70cf40",
   "metadata": {},
   "outputs": [],
   "source": [
    "scipy.io.savemat(\"RawData.mat\", data_pred_mat)"
   ]
  }
 ],
 "metadata": {
  "kernelspec": {
   "display_name": "Python 3",
   "language": "python",
   "name": "python3"
  },
  "language_info": {
   "codemirror_mode": {
    "name": "ipython",
    "version": 3
   },
   "file_extension": ".py",
   "mimetype": "text/x-python",
   "name": "python",
   "nbconvert_exporter": "python",
   "pygments_lexer": "ipython3",
   "version": "3.11.5"
  }
 },
 "nbformat": 4,
 "nbformat_minor": 5
}
