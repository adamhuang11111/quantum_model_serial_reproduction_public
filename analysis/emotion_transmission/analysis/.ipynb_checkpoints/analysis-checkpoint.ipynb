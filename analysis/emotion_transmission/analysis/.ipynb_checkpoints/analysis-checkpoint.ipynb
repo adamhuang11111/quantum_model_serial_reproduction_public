{
 "cells": [
  {
   "cell_type": "code",
   "execution_count": 8,
   "id": "e730f936",
   "metadata": {},
   "outputs": [],
   "source": [
    "import pandas as pd\n",
    "import numpy as np\n",
    "import matplotlib.pyplot as plt"
   ]
  },
  {
   "cell_type": "markdown",
   "id": "b9786fb5",
   "metadata": {},
   "source": [
    "# Preprocessing"
   ]
  },
  {
   "cell_type": "code",
   "execution_count": 9,
   "id": "4ab10c48",
   "metadata": {},
   "outputs": [],
   "source": [
    "pred_tab = pd.read_csv(\"combined_predictions_data.csv\")\n",
    "quantum_tab = pred_tab[pred_tab[\"Raw\"] == \"quantum\"]\n",
    "data_tab = pred_tab[pred_tab[\"Raw\"] == \"raw\"]"
   ]
  },
  {
   "cell_type": "code",
   "execution_count": 10,
   "id": "47d50d81",
   "metadata": {},
   "outputs": [],
   "source": [
    "original = quantum_tab[\"Posit0\"].unique()"
   ]
  },
  {
   "cell_type": "code",
   "execution_count": 11,
   "id": "4cd67a2f",
   "metadata": {},
   "outputs": [
    {
     "name": "stderr",
     "output_type": "stream",
     "text": [
      "C:\\Users\\Adam\\AppData\\Local\\Temp\\ipykernel_76488\\1273654453.py:8: SettingWithCopyWarning: \n",
      "A value is trying to be set on a copy of a slice from a DataFrame.\n",
      "Try using .loc[row_indexer,col_indexer] = value instead\n",
      "\n",
      "See the caveats in the documentation: https://pandas.pydata.org/pandas-docs/stable/user_guide/indexing.html#returning-a-view-versus-a-copy\n",
      "  quantum_tab.loc[i,\"story\"] = count\n"
     ]
    }
   ],
   "source": [
    "for emo in quantum_tab[\"Emotion\"].unique():\n",
    "    emo_tab = quantum_tab[quantum_tab[\"Emotion\"] == emo]\n",
    "    count = 0\n",
    "    original = emo_tab[\"Posit0\"].unique()\n",
    "    for o in original:\n",
    "        o_tab = emo_tab[emo_tab[\"Posit0\"] == o]\n",
    "        for i in o_tab.index:\n",
    "            quantum_tab.loc[i,\"story\"] = count\n",
    "        count = count + 1"
   ]
  },
  {
   "cell_type": "code",
   "execution_count": 12,
   "id": "cec89df2",
   "metadata": {},
   "outputs": [
    {
     "name": "stderr",
     "output_type": "stream",
     "text": [
      "C:\\Users\\Adam\\AppData\\Local\\Temp\\ipykernel_76488\\140313429.py:8: SettingWithCopyWarning: \n",
      "A value is trying to be set on a copy of a slice from a DataFrame.\n",
      "Try using .loc[row_indexer,col_indexer] = value instead\n",
      "\n",
      "See the caveats in the documentation: https://pandas.pydata.org/pandas-docs/stable/user_guide/indexing.html#returning-a-view-versus-a-copy\n",
      "  data_tab.loc[i,\"story\"] = count\n"
     ]
    }
   ],
   "source": [
    "for emo in data_tab[\"Emotion\"].unique():\n",
    "    emo_tab = data_tab[data_tab[\"Emotion\"] == emo]\n",
    "    count = 0\n",
    "    original = emo_tab[\"Posit0\"].unique()\n",
    "    for o in original:\n",
    "        o_tab = emo_tab[emo_tab[\"Posit0\"] == o]\n",
    "        for i in o_tab.index:\n",
    "            data_tab.loc[i,\"story\"] = count\n",
    "        count = count + 1"
   ]
  },
  {
   "cell_type": "code",
   "execution_count": 13,
   "id": "447162ad",
   "metadata": {},
   "outputs": [],
   "source": [
    "quantum_pred_mat = {}\n",
    "for emo in quantum_tab[\"Emotion\"]:\n",
    "    emotion_mat = []\n",
    "    emo_tab = quantum_tab[quantum_tab[\"Emotion\"] == emo]\n",
    "    for i in emo_tab.index:\n",
    "        data = []\n",
    "        data.append(emo_tab.loc[i,\"Posit0\"])\n",
    "        data.append(emo_tab.loc[i,\"Posit1\"])\n",
    "        data.append(emo_tab.loc[i,\"Posit2\"])\n",
    "        data.append(emo_tab.loc[i,\"Posit3\"])\n",
    "        data.append(emo_tab.loc[i,\"story\"])\n",
    "        emotion_mat.append(data)\n",
    "    quantum_pred_mat[emo] = np.array(emotion_mat)"
   ]
  },
  {
   "cell_type": "code",
   "execution_count": 14,
   "id": "57de81e9",
   "metadata": {},
   "outputs": [],
   "source": [
    "data_pred_mat = {}\n",
    "for emo in data_tab[\"Emotion\"]:\n",
    "    emotion_mat = []\n",
    "    emo_tab = data_tab[data_tab[\"Emotion\"] == emo]\n",
    "    for i in emo_tab.index:\n",
    "        data = []\n",
    "        data.append(emo_tab.loc[i,\"Posit0\"])\n",
    "        data.append(emo_tab.loc[i,\"Posit1\"])\n",
    "        data.append(emo_tab.loc[i,\"Posit2\"])\n",
    "        data.append(emo_tab.loc[i,\"Posit3\"])\n",
    "        data.append(emo_tab.loc[i,\"story\"])\n",
    "        emotion_mat.append(data)\n",
    "    data_pred_mat[emo] = np.array(emotion_mat)"
   ]
  },
  {
   "cell_type": "code",
   "execution_count": 15,
   "id": "f0b75c4f",
   "metadata": {},
   "outputs": [],
   "source": [
    "import scipy"
   ]
  },
  {
   "cell_type": "code",
   "execution_count": 16,
   "id": "b4bc71e7",
   "metadata": {},
   "outputs": [],
   "source": [
    "scipy.io.savemat(\"QPred.mat\", quantum_pred_mat)"
   ]
  },
  {
   "cell_type": "code",
   "execution_count": 17,
   "id": "1c70cf40",
   "metadata": {},
   "outputs": [],
   "source": [
    "scipy.io.savemat(\"RawData.mat\", data_pred_mat)"
   ]
  },
  {
   "cell_type": "code",
   "execution_count": 18,
   "id": "17f300c6",
   "metadata": {},
   "outputs": [],
   "source": [
    "joint_table = {\"quantum\": quantum_pred_mat, \"data\": data_pred_mat,}"
   ]
  },
  {
   "cell_type": "markdown",
   "id": "a670906f",
   "metadata": {},
   "source": [
    "# Plots"
   ]
  },
  {
   "cell_type": "code",
   "execution_count": 103,
   "id": "6c71c824",
   "metadata": {},
   "outputs": [],
   "source": [
    "def standard_slope(mat,stdx,stdy):\n",
    "    slope = scipy.io.loadmat(mat)[\"parm\"][0][0]\n",
    "    sd_slope = slope*stdx/stdy\n",
    "    return sd_slope"
   ]
  },
  {
   "cell_type": "code",
   "execution_count": 104,
   "id": "25eeacc7",
   "metadata": {},
   "outputs": [],
   "source": [
    "def std_x(tab):\n",
    "    return np.std(tab[:,0:3].flatten())"
   ]
  },
  {
   "cell_type": "code",
   "execution_count": 105,
   "id": "2b875388",
   "metadata": {},
   "outputs": [],
   "source": [
    "def std_y(tab):\n",
    "    return np.std([1,2,3,4]*np.size(tab,0))"
   ]
  },
  {
   "cell_type": "code",
   "execution_count": 127,
   "id": "15ba3da8",
   "metadata": {},
   "outputs": [],
   "source": [
    "def average_ratio_compression(mat):\n",
    "    d = scipy.io.loadmat(mat)[\"parm\"][2][0]\n",
    "    return np.exp(d)"
   ]
  },
  {
   "cell_type": "code",
   "execution_count": 130,
   "id": "3b11debc",
   "metadata": {},
   "outputs": [],
   "source": [
    "analysis_result = {}\n",
    "for model in [\"quantum\", \"data\"]:\n",
    "    analysis_result[model] = {}\n",
    "    for emotion in data_tab[\"Emotion\"].unique():\n",
    "        stdx = std_x(joint_table[model][emotion])\n",
    "        stdy = std_y(joint_table[model][emotion])\n",
    "        mat = emotion.lower() + \"_parm_\" + model + \".mat\"\n",
    "        slope = standard_slope(mat,1,1)\n",
    "        compression = average_ratio_compression(mat)\n",
    "        analysis_result[model][emotion] = {\"slope\":slope, \"compression\":compression}"
   ]
  },
  {
   "cell_type": "code",
   "execution_count": 131,
   "id": "bfa6ea9c",
   "metadata": {
    "scrolled": true
   },
   "outputs": [
    {
     "data": {
      "text/plain": [
       "{'Embarrass': {'slope': -0.038603431117440176,\n",
       "  'compression': 0.8630720526070568},\n",
       " 'Happy': {'slope': -0.18232218014654142, 'compression': 0.9592025549885766},\n",
       " 'Risk': {'slope': -0.3435222274078285, 'compression': 1.0053103408253279},\n",
       " 'Sad': {'slope': -0.10467376161802935, 'compression': 0.9226768739350387},\n",
       " 'Disgust': {'slope': -0.46981459177084717, 'compression': 0.9300343127169456}}"
      ]
     },
     "execution_count": 131,
     "metadata": {},
     "output_type": "execute_result"
    }
   ],
   "source": [
    "analysis_result[\"quantum\"]"
   ]
  },
  {
   "cell_type": "code",
   "execution_count": 132,
   "id": "228e532d",
   "metadata": {},
   "outputs": [
    {
     "data": {
      "text/plain": [
       "{'Embarrass': {'slope': -0.10973043672859636,\n",
       "  'compression': 0.7937144312883826},\n",
       " 'Happy': {'slope': -0.17466432988964525, 'compression': 0.9455013168138298},\n",
       " 'Risk': {'slope': -0.31483836793966674, 'compression': 0.9227583703486146},\n",
       " 'Sad': {'slope': -0.11518176137513204, 'compression': 0.8763627691346138},\n",
       " 'Disgust': {'slope': -0.4824369739933071, 'compression': 0.873862880644033}}"
      ]
     },
     "execution_count": 132,
     "metadata": {},
     "output_type": "execute_result"
    }
   ],
   "source": [
    "analysis_result[\"data\"]"
   ]
  },
  {
   "cell_type": "code",
   "execution_count": 19,
   "id": "12ea4ba8",
   "metadata": {},
   "outputs": [],
   "source": [
    "def mean_model(mat,num_story):\n",
    "    y_list = []\n",
    "    parm = scipy.io.loadmat(mat)[\"parm\"]\n",
    "    x = np.linspace(0,3,100)\n",
    "    for i in range(0,num_story):\n",
    "        yretell = prediction(x,parm[0][0],parm[4+i][0],parm[2][0],parm[1][0])\n",
    "        y_list.append(yretell)\n",
    "    return y_list"
   ]
  },
  {
   "cell_type": "code",
   "execution_count": 20,
   "id": "7b6cde68",
   "metadata": {},
   "outputs": [],
   "source": [
    "def prediction(x,slope,alpha,d,intercept):\n",
    "    y_retell = []\n",
    "    for s in x:\n",
    "        y = slope*s + alpha*np.exp(s*d) + intercept - 1\n",
    "        y_retell.append(y)\n",
    "    return y_retell"
   ]
  },
  {
   "cell_type": "code",
   "execution_count": 21,
   "id": "2c10d2ef",
   "metadata": {},
   "outputs": [],
   "source": [
    "def spine(x,slope,intercept):\n",
    "    y_retell = []\n",
    "    for s in x:\n",
    "        y = slope*s + intercept - 1\n",
    "        y_retell.append(y)\n",
    "    return y_retell"
   ]
  },
  {
   "cell_type": "code",
   "execution_count": 22,
   "id": "07493668",
   "metadata": {},
   "outputs": [],
   "source": [
    "def spine_model(mat,num_story):\n",
    "    parm = scipy.io.loadmat(mat)[\"parm\"]\n",
    "    x = np.linspace(0,3,100)\n",
    "    y = spine(x,parm[0][0],parm[1][0])\n",
    "    return y"
   ]
  },
  {
   "cell_type": "code",
   "execution_count": 23,
   "id": "ed1e6a8d",
   "metadata": {
    "scrolled": true
   },
   "outputs": [
    {
     "ename": "NameError",
     "evalue": "name 'emotion' is not defined",
     "output_type": "error",
     "traceback": [
      "\u001b[1;31m---------------------------------------------------------------------------\u001b[0m",
      "\u001b[1;31mNameError\u001b[0m                                 Traceback (most recent call last)",
      "Cell \u001b[1;32mIn[23], line 1\u001b[0m\n\u001b[1;32m----> 1\u001b[0m joint_table[\u001b[38;5;124m\"\u001b[39m\u001b[38;5;124mquantum\u001b[39m\u001b[38;5;124m\"\u001b[39m][emotion][\u001b[38;5;241m-\u001b[39m\u001b[38;5;241m1\u001b[39m,\u001b[38;5;241m4\u001b[39m]\n",
      "\u001b[1;31mNameError\u001b[0m: name 'emotion' is not defined"
     ]
    }
   ],
   "source": [
    "joint_table[\"quantum\"][emotion][-1,4]"
   ]
  },
  {
   "cell_type": "code",
   "execution_count": 191,
   "id": "b5cf713b",
   "metadata": {},
   "outputs": [],
   "source": [
    "prediction_plots = {}\n",
    "for emotion in data_tab[\"Emotion\"].unique():\n",
    "    prediction_plots[emotion] = {}\n",
    "    num_story = int(joint_table[\"quantum\"][emotion][-1,4] + 1)\n",
    "    mat = emotion.lower() + \"_parm_\" + \"quantum\" + \".mat\"\n",
    "    mean_pred = mean_model(mat,num_story)\n",
    "    spines = spine_model(mat,num_story)\n",
    "    prediction_plots[emotion] = {\"pred\": mean_pred, \"spine\": spines}"
   ]
  },
  {
   "cell_type": "code",
   "execution_count": 308,
   "id": "0072063f",
   "metadata": {},
   "outputs": [],
   "source": [
    "import matplotlib as mpl\n",
    "mpl.rcParams['axes.spines.right'] = False\n",
    "mpl.rcParams['axes.spines.top'] = False\n",
    "plt.rcParams[\"figure.figsize\"] = (8,6)\n",
    "for emo in data_tab[\"Emotion\"].unique():\n",
    "    plt.title(emo,fontsize=40)\n",
    "    for i in range(0,np.size(prediction_plots[emo][\"pred\"],0)):\n",
    "        plt.plot(np.linspace(0,3,100),prediction_plots[emo][\"pred\"][i])\n",
    "    plt.plot(np.linspace(0,3,100),prediction_plots[emo][\"spine\"], linewidth = 8, color = \"red\")\n",
    "    plt.scatter(0.5, 8, color = \"white\", label = \"exp(d) = \" + str(round(analysis_result[\"quantum\"][emo][\"compression\"],3)))\n",
    "    plt.scatter(0.5, 8, color = \"white\", label = \"slope = \" + str(round(analysis_result[\"quantum\"][emo][\"slope\"],3)))\n",
    "    plt.ylim(-0.5,7.5)\n",
    "    plt.rc('xtick', labelsize=20) \n",
    "    plt.rc('ytick', labelsize=20) \n",
    "    plt.legend(frameon=False,fontsize=25)\n",
    "    plt.savefig(emo + \"_mean_fig.jpg\", dpi = 500)\n",
    "    plt.close()"
   ]
  },
  {
   "cell_type": "code",
   "execution_count": 192,
   "id": "d9c63348",
   "metadata": {
    "scrolled": false
   },
   "outputs": [
    {
     "data": {
      "text/plain": [
       "(0.0, 7.0)"
      ]
     },
     "execution_count": 192,
     "metadata": {},
     "output_type": "execute_result"
    },
    {
     "data": {
      "image/png": "[encoded data removed]",
      "text/plain": [
       "<Figure size 640x480 with 1 Axes>"
      ]
     },
     "metadata": {},
     "output_type": "display_data"
    }
   ],
   "source": [
    "plt.plot(np.linspace(0,3,100),prediction_plots[\"Happy\"][\"spine\"])\n",
    "plt.ylim(0,7)"
   ]
  }
 ],
 "metadata": {
  "kernelspec": {
   "display_name": "Python 3",
   "language": "python",
   "name": "python3"
  },
  "language_info": {
   "codemirror_mode": {
    "name": "ipython",
    "version": 3
   },
   "file_extension": ".py",
   "mimetype": "text/x-python",
   "name": "python",
   "nbconvert_exporter": "python",
   "pygments_lexer": "ipython3",
   "version": "3.11.5"
  }
 },
 "nbformat": 4,
 "nbformat_minor": 5
}
